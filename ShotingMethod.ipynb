{
 "cells": [
  {
   "cell_type": "markdown",
   "metadata": {},
   "source": [
    "## Soving Partial Diffrential Equation in 2 Dimessional plane\n",
    "\n",
    "We will do that in following way!\n",
    "\n",
    "\\begin{equation}\n",
    "\n",
    "\\frac{dy}{dx} = \\frac{y_{i+1} + y_{i-1} - 2y_i}{h}\n",
    "\n",
    "\\end{equation}\n",
    "\n",
    "Intial Conditions:\n"
   ]
  },
  {
   "cell_type": "markdown",
   "metadata": {},
   "source": [
    "## Solving the ODE using shooting method\n",
    "\n",
    "%%latex\n",
    "\n",
    "\\begin{equation}\n",
    "  \\frac{d^2y}{dx^2} = 6y^2-x \\\\\n",
    "  y(0) = 1 \\quad\n",
    "  y(1) = 5\n",
    "\\end{equation}\n",
    "\n",
    "In order to love this we will use *Eulor's algorithem*. First we will start with a finite guess of intial conditions of derrivative and then we can increament the value by linear regression.\n",
    "\n",
    "\\begin{equation}\n",
    "let \\frac{dy}{dx} = p\n",
    " \\frac{dp}{dx} = 6y^2 -x  \\\\ \\\\\n",
    "\\frac{dy}{dx} = \\lim_{\\Delta x\\to0} \\frac{y(x + \\Delta x) -y(x)}{\\Delta x} \\\\ \\\\\n",
    " y(\\Delta x + x) = y(x) + \\Delta x * \\frac{dy}{dx} \\\\\n",
    " y(x+\\Delta x) = y(x) + p\\Delta x \\\\\n",
    "\\\\ \\\\\n",
    "\\frac{dp}{dx} = \\lim_{\\Delta x\\to0} \\frac{p(x + \\Delta x) -p(x)}{\\Delta x} \\\\\n",
    " p(\\Delta x + x) = p(x) + \\Delta x * \\frac{dp}{dx} \\\\\n",
    " p(x+\\Delta x) = p(x) + (6y^2-x)\\Delta x \\\\\n",
    "\\end{equation}\n",
    "\n",
    "\n"
   ]
  },
  {
   "cell_type": "code",
   "execution_count": 13,
   "metadata": {},
   "outputs": [],
   "source": [
    "import numpy as np\n",
    "import matplotlib.pyplot as plt\n",
    "import math \n"
   ]
  },
  {
   "cell_type": "code",
   "execution_count": null,
   "metadata": {},
   "outputs": [],
   "source": []
  },
  {
   "cell_type": "markdown",
   "metadata": {},
   "source": [
    "$$p \\epsilon [-1,1]$$"
   ]
  },
  {
   "cell_type": "markdown",
   "metadata": {},
   "source": [
    "If we change the initial values for the derrivative, we can see that the graph of solutions shifts up and down. We can use this technique to find out how far is the graph from the actual solution. Hence we try to get some upper bound and some lower bound, the initial contions for the derivative lies between them. Now we change the initial conditons on the basis of the fect that how far the last y point is from the boundry conditon."
   ]
  },
  {
   "cell_type": "code",
   "execution_count": 14,
   "metadata": {
    "tags": []
   },
   "outputs": [
    {
     "name": "stdout",
     "output_type": "stream",
     "text": [
      "0.0\n",
      "-0.5\n",
      "-0.75\n",
      "-0.875\n",
      "-0.9375\n",
      "-0.90625\n",
      "-0.890625\n",
      "-0.8828125\n",
      "-0.88671875\n",
      "-0.888671875\n"
     ]
    }
   ],
   "source": [
    "tol = 0.01 #set the tolrence to \n",
    "low = -1  #there \n",
    "high = +1\n",
    "max_iter = 1000\n",
    "count = 0\n",
    "while count< max_iter:\n",
    "    count += 1\n",
    "    x = 0\n",
    "    y = 1\n",
    "    yf = 5\n",
    "    xf = 1\n",
    "    mid = (low+high)/2\n",
    "    p = mid\n",
    "    print(p)\n",
    "    dx= 0.003\n",
    "    xs = [x]\n",
    "    ys = [y]\n",
    "    N = int((xf-x)/dx)\n",
    "    for i in range(N):\n",
    "        temp = y\n",
    "        y += p*dx\n",
    "        # print(f'{y = }')\n",
    "        p += (6*y**2-x)*dx\n",
    "        # print(f'{p=}')\n",
    "        x += dx\n",
    "        # print(x)\n",
    "        ys.append(y)\n",
    "        xs.append(x)\n",
    "\n",
    "    if np.abs(ys[-1]-yf)<tol:\n",
    "        break\n",
    "    if yf > ys[-1]:\n",
    "        low = mid\n",
    "    else:\n",
    "        high = mid\n",
    "    \n",
    "        "
   ]
  },
  {
   "cell_type": "code",
   "execution_count": 15,
   "metadata": {},
   "outputs": [
    {
     "data": {
      "text/plain": [
       "[<matplotlib.lines.Line2D at 0x7f191163b910>]"
      ]
     },
     "execution_count": 15,
     "metadata": {},
     "output_type": "execute_result"
    },
    {
     "data": {
      "image/png": "[encoded data removed]",
      "text/plain": [
       "<Figure size 432x288 with 1 Axes>"
      ]
     },
     "metadata": {
      "needs_background": "light"
     },
     "output_type": "display_data"
    }
   ],
   "source": [
    "plt.plot(xs, ys)\n",
    "plt.plot(xf, yf, '*')"
   ]
  },
  {
   "cell_type": "code",
   "execution_count": 16,
   "metadata": {
    "tags": []
   },
   "outputs": [
    {
     "name": "stdout",
     "output_type": "stream",
     "text": [
      "0.0\n",
      "-5.0\n",
      "-2.5\n",
      "-1.25\n",
      "-1.875\n",
      "-1.5625\n",
      "-1.40625\n",
      "-1.328125\n",
      "-1.3671875\n",
      "-1.38671875\n",
      "-1.376953125\n",
      "-1.3818359375\n",
      "-1.38427734375\n",
      "-1.383056640625\n",
      "-1.3824462890625\n"
     ]
    }
   ],
   "source": [
    "low = -10\n",
    "high = 10\n",
    "count = 0\n",
    "max_iter = 100\n",
    "tol = 1e-4\n",
    "\n",
    "while count<max_iter:\n",
    "    x = 0\n",
    "    y = 7\n",
    "    yf = 0\n",
    "    xf = 2*np.pi\n",
    "    mid = (low+high)/2\n",
    "    p = mid\n",
    "    print(p)\n",
    "    dx= 0.0003\n",
    "    xs = [x]\n",
    "    ys = [y]\n",
    "    N = int(xf/dx)\n",
    "    for i in range(N):\n",
    "        temp = y\n",
    "        y += p*dx\n",
    "        # print(f'{y = }')\n",
    "        p += (-3*y)*dx\n",
    "        # print(f'{p=}')\n",
    "        x += dx\n",
    "        # print(x)6*y**2-x\n",
    "        ys.append(y)\n",
    "        xs.append(x)\n",
    "    if np.abs(ys[-1]-yf)<tol:\n",
    "        break\n",
    "    if(ys[-1]-yf)>0:\n",
    "        low = mid\n",
    "    else:\n",
    "        high = mid\n",
    "    count += 1"
   ]
  },
  {
   "cell_type": "code",
   "execution_count": 23,
   "metadata": {},
   "outputs": [
    {
     "data": {
      "text/plain": [
       "[<matplotlib.lines.Line2D at 0x7f1911399f40>]"
      ]
     },
     "execution_count": 23,
     "metadata": {},
     "output_type": "execute_result"
    },
    {
     "data": {
      "image/png": "[encoded data removed]",
      "text/plain": [
       "<Figure size 432x288 with 1 Axes>"
      ]
     },
     "metadata": {
      "needs_background": "light"
     },
     "output_type": "display_data"
    }
   ],
   "source": [
    "plt.plot(xs, ys)\n",
    "plt.plot(xf, yf, '*')"
   ]
  }
 ],
 "metadata": {
  "kernelspec": {
   "display_name": "Python 3",
   "language": "python",
   "name": "python3"
  },
  "language_info": {
   "codemirror_mode": {
    "name": "ipython",
    "version": 3
   },
   "file_extension": ".py",
   "mimetype": "text/x-python",
   "name": "python",
   "nbconvert_exporter": "python",
   "pygments_lexer": "ipython3",
   "version": "3.8.5"
  }
 },
 "nbformat": 4,
 "nbformat_minor": 2
}
