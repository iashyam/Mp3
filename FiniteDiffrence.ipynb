{
 "cells": [
  {
   "cell_type": "code",
   "execution_count": 2,
   "metadata": {},
   "outputs": [],
   "source": [
    "import numpy as np\n",
    "import matplotlib.pyplot as plt\n",
    "import math\n",
    "from scipy import linalg\n",
    "from scipy.sparse import diags"
   ]
  },
  {
   "cell_type": "code",
   "execution_count": 3,
   "metadata": {},
   "outputs": [],
   "source": [
    "!pip install jovian --upgrade --quiet"
   ]
  },
  {
   "cell_type": "code",
   "execution_count": 4,
   "metadata": {},
   "outputs": [],
   "source": [
    "import jovian"
   ]
  },
  {
   "cell_type": "markdown",
   "metadata": {},
   "source": [
    "Let $y = y(x)$ be a function of x. \n",
    "<br>\n",
    "Then we know from taylor's series: \n",
    "<br>\n",
    "<br>\n",
    "\\begin{equation}\n",
    "y(x+h) = y(x) + hy'(x) + h^2y''(x) + \\cdots \\\\\n",
    "y(x-h) = y(x) - hy'(x) + h^2y''(x) - \\cdots\n",
    "\\end{equation}\n",
    "\n",
    "Substracting these two we get:\n",
    "$$y(x+h)-y(x-h)=2hy'(x) + \\mathcal{O}(h^3)$$\n",
    "$$y'(x) = \\frac{y(x+h)-y(x-h)}{2h} + \\mathcal{O}(h^3)$$\n",
    "\n",
    ">This is called **Central Difference Formula for diffrentiation.**\n",
    "\n",
    "By adding these two, we get\n",
    "$$y\"(x) = \\frac{y(x+h)+y(x-h)-2y(x)}{h^2} + \\mathcal{O}(h^4)$$\n",
    "<br>\n",
    "In context of any diffrential equation, We are given boundries $x_0$ to $X_n$. <br> So we can simply devide it into N equal parts deffering by h. Let $x_i = x_0 + ih$ represent a point in this intevel. So $y_i = y(x_i)$. We can write the equation <br> <br>\n",
    "$$y\"(x) = \\frac{y_{i+1} + y_{i-1} - 2y_{i}}{h^2}$$"
   ]
  },
  {
   "cell_type": "markdown",
   "metadata": {},
   "source": [
    "We want to solve the boundry value problem\n",
    "\n",
    "$$\\frac{d^2 y}{dx^2} + 4y = 0$$\n",
    "$$y(0) = -2 \\quad y(\\pi/4)=10$$"
   ]
  },
  {
   "cell_type": "markdown",
   "metadata": {},
   "source": [
    "We can divide the intervel \\[-2,10] in $N$ equal parts where every point is $h$ distance apart. For any point $i$ <br>\n",
    "$$\\frac{y(x+h)+y(x-h)-2y(x)}{h^2}+4y_i = 0$$\n",
    "$$y_{i+1) + y_{i-1} + (4h^2-2)y_i=0$$\n",
    "<br>\n",
    "$$y_0 = -1 \\quad \\quad i =0$$\n",
    "$$y_0 + (4h^2-2)y_1+y_2 =0$$\n",
    "$$y_1 + (4h^2-2)y_2+y_3 =0$$\n",
    "$$y_2 + (4h^2-2)y_3+y_4 =0$$\n",
    "$$y_3 + (4h^2-2)y_4+y_5 =0$$\n",
    "$$y_{n-2} + (4h^2-2)y_{n-1}+y_{n} =0$$\n",
    "$$y_n = 10$$"
   ]
  },
  {
   "cell_type": "markdown",
   "metadata": {},
   "source": []
  },
  {
   "cell_type": "code",
   "execution_count": 5,
   "metadata": {},
   "outputs": [],
   "source": [
    "pi = math.pi\n",
    "xs = np.linspace(0, pi/4,100)\n",
    "h = np.diff(xs)[0]\n",
    "N = xs.size"
   ]
  },
  {
   "cell_type": "code",
   "execution_count": 6,
   "metadata": {},
   "outputs": [],
   "source": [
    "d1 = np.ones(N-1)\n",
    "d0 = (4*h**2-2)*np.ones(N)\n",
    "\n",
    "M = diags([d1,d0,d1],[-1,0,1]).toarray()\n",
    "M[0][0]=1\n",
    "M[0][1]=0\n",
    "M[-1][-1]=1\n",
    "M[-1][-2] = 0"
   ]
  },
  {
   "cell_type": "code",
   "execution_count": 7,
   "metadata": {},
   "outputs": [],
   "source": [
    "b = np.zeros(N)\n",
    "b[0]=-2\n",
    "b[-1]=10"
   ]
  },
  {
   "cell_type": "code",
   "execution_count": 8,
   "metadata": {},
   "outputs": [
    {
     "data": {
      "text/plain": [
       "array([-2.,  0.,  0.,  0.,  0.,  0.,  0.,  0.,  0.,  0.,  0.,  0.,  0.,\n",
       "        0.,  0.,  0.,  0.,  0.,  0.,  0.,  0.,  0.,  0.,  0.,  0.,  0.,\n",
       "        0.,  0.,  0.,  0.,  0.,  0.,  0.,  0.,  0.,  0.,  0.,  0.,  0.,\n",
       "        0.,  0.,  0.,  0.,  0.,  0.,  0.,  0.,  0.,  0.,  0.,  0.,  0.,\n",
       "        0.,  0.,  0.,  0.,  0.,  0.,  0.,  0.,  0.,  0.,  0.,  0.,  0.,\n",
       "        0.,  0.,  0.,  0.,  0.,  0.,  0.,  0.,  0.,  0.,  0.,  0.,  0.,\n",
       "        0.,  0.,  0.,  0.,  0.,  0.,  0.,  0.,  0.,  0.,  0.,  0.,  0.,\n",
       "        0.,  0.,  0.,  0.,  0.,  0.,  0.,  0., 10.])"
      ]
     },
     "execution_count": 8,
     "metadata": {},
     "output_type": "execute_result"
    }
   ],
   "source": [
    "b"
   ]
  },
  {
   "cell_type": "code",
   "execution_count": null,
   "metadata": {},
   "outputs": [],
   "source": []
  },
  {
   "cell_type": "code",
   "execution_count": 9,
   "metadata": {},
   "outputs": [],
   "source": [
    "ys = linalg.solve(M,b)\n",
    "yth = -2*np.cos(2*xs)+10*np.sin(2*xs)"
   ]
  },
  {
   "cell_type": "code",
   "execution_count": 10,
   "metadata": {},
   "outputs": [
    {
     "data": {
      "image/png": "[encoded data removed]",
      "text/plain": [
       "<Figure size 432x288 with 1 Axes>"
      ]
     },
     "metadata": {
      "needs_background": "light"
     },
     "output_type": "display_data"
    }
   ],
   "source": [
    "plt.plot(xs, ys)\n",
    "plt.plot(xs, yth)\n",
    "plt.show()"
   ]
  },
  {
   "cell_type": "code",
   "execution_count": 11,
   "metadata": {},
   "outputs": [
    {
     "data": {
      "text/plain": [
       "array([-2.,  0.,  0.,  0.,  0.,  0.,  0.,  0.,  0.,  0.,  0.,  0.,  0.,\n",
       "        0.,  0.,  0.,  0.,  0.,  0.,  0.,  0.,  0.,  0.,  0.,  0.,  0.,\n",
       "        0.,  0.,  0.,  0.,  0.,  0.,  0.,  0.,  0.,  0.,  0.,  0.,  0.,\n",
       "        0.,  0.,  0.,  0.,  0.,  0.,  0.,  0.,  0.,  0.,  0.,  0.,  0.,\n",
       "        0.,  0.,  0.,  0.,  0.,  0.,  0.,  0.,  0.,  0.,  0.,  0.,  0.,\n",
       "        0.,  0.,  0.,  0.,  0.,  0.,  0.,  0.,  0.,  0.,  0.,  0.,  0.,\n",
       "        0.,  0.,  0.,  0.,  0.,  0.,  0.,  0.,  0.,  0.,  0.,  0.,  0.,\n",
       "        0.,  0.,  0.,  0.,  0.,  0.,  0.,  0., 10.])"
      ]
     },
     "execution_count": 11,
     "metadata": {},
     "output_type": "execute_result"
    }
   ],
   "source": [
    "b"
   ]
  },
  {
   "cell_type": "code",
   "execution_count": 12,
   "metadata": {},
   "outputs": [
    {
     "data": {
      "application/javascript": [
       "window.require && require([\"base/js/namespace\"],function(Jupyter){Jupyter.notebook.save_checkpoint()})"
      ],
      "text/plain": [
       "<IPython.core.display.Javascript object>"
      ]
     },
     "metadata": {},
     "output_type": "display_data"
    },
    {
     "name": "stdout",
     "output_type": "stream",
     "text": [
      "[jovian] Attempting to save notebook..\u001b[0m\n",
      "[jovian] Updating notebook \"iashyam/finitediffrence\" on https://jovian.ai/\u001b[0m\n",
      "[jovian] Uploading notebook..\u001b[0m\n",
      "[jovian] Capturing environment..\u001b[0m\n",
      "[jovian] Committed successfully! https://jovian.ai/iashyam/finitediffrence\u001b[0m\n"
     ]
    },
    {
     "data": {
      "text/plain": [
       "'https://jovian.ai/iashyam/finitediffrence'"
      ]
     },
     "execution_count": 12,
     "metadata": {},
     "output_type": "execute_result"
    }
   ],
   "source": [
    "jovian.commit()"
   ]
  },
  {
   "cell_type": "markdown",
   "metadata": {},
   "source": [
    "# Solving PArtial Diffrential Equations "
   ]
  },
  {
   "cell_type": "markdown",
   "metadata": {},
   "source": [
    "Let's Say we want to solve a diffrential equation:\n",
    "\n",
    "\\begin{equation}\n",
    "    \\frac{\\partial u}{\\partial y} = 4 \\frac{\\partial^2 u}{\\partial x^2}\n",
    "\\end{equation}\n",
    "\n",
    "With initial conditions given <br>\n",
    "$y(x,0) = 0$ <br>\n",
    "$y(0,y) = 10$ <br>\n",
    "$y(10,y) = 20$ <br>"
   ]
  },
  {
   "cell_type": "code",
   "execution_count": null,
   "metadata": {},
   "outputs": [],
   "source": []
  }
 ],
 "metadata": {
  "kernelspec": {
   "display_name": "Python 3",
   "language": "python",
   "name": "python3"
  },
  "language_info": {
   "codemirror_mode": {
    "name": "ipython",
    "version": 3
   },
   "file_extension": ".py",
   "mimetype": "text/x-python",
   "name": "python",
   "nbconvert_exporter": "python",
   "pygments_lexer": "ipython3",
   "version": "3.8.5"
  }
 },
 "nbformat": 4,
 "nbformat_minor": 4
}
