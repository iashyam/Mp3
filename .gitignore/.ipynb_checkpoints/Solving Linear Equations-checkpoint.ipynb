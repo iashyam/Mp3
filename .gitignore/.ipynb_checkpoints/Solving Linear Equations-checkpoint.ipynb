{
 "cells": [
  {
   "cell_type": "markdown",
   "metadata": {},
   "source": [
    "# Solving linear equtions\n",
    "\n",
    "## 1. Gaussian Elimination"
   ]
  },
  {
   "cell_type": "markdown",
   "metadata": {},
   "source": [
    "Lets say we want to solve\n",
    "AB = C"
   ]
  },
  {
   "cell_type": "code",
   "execution_count": 175,
   "metadata": {},
   "outputs": [],
   "source": [
    "import numpy as np\n",
    "import jovian"
   ]
  },
  {
   "cell_type": "code",
   "execution_count": 116,
   "metadata": {},
   "outputs": [
    {
     "data": {
      "text/plain": [
       "array([1, 2, 3, 4, 5, 6, 2])"
      ]
     },
     "execution_count": 116,
     "metadata": {},
     "output_type": "execute_result"
    }
   ],
   "source": [
    "a = np.array((1,2,3,4,5,6))\n",
    "np.append(a, 2)"
   ]
  },
  {
   "cell_type": "code",
   "execution_count": 216,
   "metadata": {},
   "outputs": [],
   "source": [
    "def solve(A, B):\n",
    "    n = len(A)\n",
    "    A = np.c_[A, B]\n",
    "    \n",
    "    \n",
    "    #getting echilion matrix:\n",
    "    for i in range(n):\n",
    "        for j in range(i+1,n):\n",
    "            fector = A[j][i]/A[i][i]\n",
    "            \n",
    "            for k in range(i, n+1):\n",
    "                A[j][k] -= A[i][k]*fector\n",
    "                \n",
    "    print(A)\n",
    "            \n",
    "    \n",
    "    c = [0 for _ in B]        \n",
    "    #backSubstitution\n",
    "    string = ''\n",
    "    for i in range(n-1,-1,-1):\n",
    "        sum = 0\n",
    "        for j in range(i,n):\n",
    "            sum += A[i][j]*c[j]\n",
    "        c[i] = (A[i][-1] -sum)/A[i][i]\n",
    "        \n",
    "    return c"
   ]
  },
  {
   "cell_type": "code",
   "execution_count": 220,
   "metadata": {},
   "outputs": [],
   "source": [
    "A = np.array([[2,1,3],[2,6,8],[6,8,18]])"
   ]
  },
  {
   "cell_type": "code",
   "execution_count": 221,
   "metadata": {},
   "outputs": [
    {
     "data": {
      "text/plain": [
       "array([[ 2,  1,  3,  1],\n",
       "       [ 2,  6,  8,  3],\n",
       "       [ 6,  8, 18,  5]])"
      ]
     },
     "execution_count": 221,
     "metadata": {},
     "output_type": "execute_result"
    }
   ],
   "source": [
    "B = np.array((1,3,5))\n",
    "np.c_[A,B]"
   ]
  },
  {
   "cell_type": "code",
   "execution_count": 222,
   "metadata": {},
   "outputs": [
    {
     "name": "stdout",
     "output_type": "stream",
     "text": [
      "[[2 1 3 1]\n",
      " [0 5 5 2]\n",
      " [0 0 4 0]]\n"
     ]
    },
    {
     "data": {
      "text/plain": [
       "[0.3, 0.4, 0.0]"
      ]
     },
     "execution_count": 222,
     "metadata": {},
     "output_type": "execute_result"
    }
   ],
   "source": [
    "solve(A,B)"
   ]
  },
  {
   "cell_type": "code",
   "execution_count": null,
   "metadata": {},
   "outputs": [],
   "source": []
  },
  {
   "cell_type": "code",
   "execution_count": null,
   "metadata": {},
   "outputs": [],
   "source": []
  }
 ],
 "metadata": {
  "kernelspec": {
   "display_name": "Python 3",
   "language": "python",
   "name": "python3"
  },
  "language_info": {
   "codemirror_mode": {
    "name": "ipython",
    "version": 3
   },
   "file_extension": ".py",
   "mimetype": "text/x-python",
   "name": "python",
   "nbconvert_exporter": "python",
   "pygments_lexer": "ipython3",
   "version": "3.8.5"
  }
 },
 "nbformat": 4,
 "nbformat_minor": 4
}
