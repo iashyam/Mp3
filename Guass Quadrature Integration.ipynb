{
 "cells": [
  {
   "cell_type": "markdown",
   "id": "inclusive-miami",
   "metadata": {},
   "source": [
    "## Gauss Quadrature Method of Integration"
   ]
  },
  {
   "cell_type": "code",
   "execution_count": 1,
   "id": "infinite-russell",
   "metadata": {},
   "outputs": [],
   "source": [
    "import numpy as np\n",
    "import matplotlib.pyplot as plt\n",
    "from math import *"
   ]
  },
  {
   "cell_type": "code",
   "execution_count": 148,
   "id": "opposite-columbus",
   "metadata": {},
   "outputs": [],
   "source": [
    "def phi(k,xs):\n",
    "    def f(x):\n",
    "        prod = 1\n",
    "        for i in range(len(xs)):\n",
    "            if xs[k]-xs[i]:\n",
    "                prod *= (x-xs[i])/(xs[k]-xs[i])\n",
    "        return prod\n",
    "    return f"
   ]
  },
  {
   "cell_type": "code",
   "execution_count": 149,
   "id": "applicable-coach",
   "metadata": {},
   "outputs": [],
   "source": [
    "def tropezoidal(f, l,u): #tropezoidal(function, upper limit, lower limit)\n",
    "    n = 10000\n",
    "    dx = (u-l)/n\n",
    "    points = np.linspace(l,u,n)\n",
    "    s = 0\n",
    "    for i in range(1,n):\n",
    "        s += f(points[i])\n",
    "    i =  (f(u) + 2*s + f(l))*(dx/2)\n",
    "    return round(i,4)"
   ]
  },
  {
   "cell_type": "code",
   "execution_count": 150,
   "id": "damaged-reason",
   "metadata": {},
   "outputs": [],
   "source": [
    "def f(x):\n",
    "    return x"
   ]
  },
  {
   "cell_type": "code",
   "execution_count": 151,
   "id": "irish-market",
   "metadata": {},
   "outputs": [
    {
     "data": {
      "text/plain": [
       "0.5"
      ]
     },
     "execution_count": 151,
     "metadata": {},
     "output_type": "execute_result"
    }
   ],
   "source": [
    "tropezoidal(f,0,1)"
   ]
  },
  {
   "cell_type": "code",
   "execution_count": 152,
   "id": "desirable-watch",
   "metadata": {},
   "outputs": [],
   "source": [
    "def legendre(n):\n",
    "    def P(x):\n",
    "        if n == 0:\n",
    "            return 1\n",
    "        elif n == 1:\n",
    "            return x\n",
    "        else:\n",
    "            return (1/(n+1))*((2*n+1)*x*legendre(n-1)(x)-n*legendre(n-2)(x))\n",
    "    return P"
   ]
  },
  {
   "cell_type": "code",
   "execution_count": 169,
   "id": "spread-miami",
   "metadata": {},
   "outputs": [],
   "source": [
    "def bisection(f,u,l): #bisection(fuction, upperbound, lowerbound)\n",
    "    \n",
    "    tol = 0.0001\n",
    "    max_iter = 1000\n",
    "    iter_count = 0\n",
    "    \n",
    "    high = u\n",
    "    low = l\n",
    "    \n",
    "    while abs(high-low)>tol and iter_count<max_iter:\n",
    "        mid = (high+low)/2\n",
    "        \n",
    "        if f(high)*f(mid) < 0:\n",
    "            low = mid\n",
    "            \n",
    "        elif f(low)*f(mid) < 0:\n",
    "            high = mid\n",
    "            \n",
    "        iter_count += 1\n",
    "    return mid\n",
    "#     return round(mid,3)"
   ]
  },
  {
   "cell_type": "code",
   "execution_count": 170,
   "id": "fuzzy-locking",
   "metadata": {},
   "outputs": [],
   "source": [
    "def root_legendre(n): #a function to find the roots of nth order legendre;s Polynomial\n",
    "    P = legendre(n)\n",
    "    xs = np.linspace(-1,1,n+1)\n",
    "    roots = []\n",
    "    for i in range(n):\n",
    "        roots.append(bisection(P, xs[i],xs[i+1]))\n",
    "    return roots"
   ]
  },
  {
   "cell_type": "code",
   "execution_count": null,
   "id": "terminal-ceiling",
   "metadata": {},
   "outputs": [],
   "source": []
  },
  {
   "cell_type": "code",
   "execution_count": 172,
   "id": "efficient-bangladesh",
   "metadata": {},
   "outputs": [],
   "source": [
    "def gauss_quad(f):\n",
    "    n = 7 #degree of legendre's polynomial\n",
    "    roots = root_legendre(n)\n",
    "    s = 0\n",
    "    for i in range(n):\n",
    "        phis = phi(i,roots)\n",
    "        weight = tropezoidal(phis, -1,1)\n",
    "        s += weight*f(roots[i])\n",
    "    return s"
   ]
  },
  {
   "cell_type": "code",
   "execution_count": 173,
   "id": "signed-profile",
   "metadata": {},
   "outputs": [],
   "source": [
    "def f(x):\n",
    "    return sqrt(1-x**2)"
   ]
  },
  {
   "cell_type": "code",
   "execution_count": 174,
   "id": "simplified-bridal",
   "metadata": {
    "scrolled": true
   },
   "outputs": [
    {
     "data": {
      "text/plain": [
       "1.575266611536264"
      ]
     },
     "execution_count": 174,
     "metadata": {},
     "output_type": "execute_result"
    }
   ],
   "source": [
    "gauss_quad(f)"
   ]
  },
  {
   "cell_type": "code",
   "execution_count": 175,
   "id": "conservative-tackle",
   "metadata": {},
   "outputs": [
    {
     "data": {
      "text/plain": [
       "1.5707963267948966"
      ]
     },
     "execution_count": 175,
     "metadata": {},
     "output_type": "execute_result"
    }
   ],
   "source": [
    "pi/2"
   ]
  },
  {
   "cell_type": "code",
   "execution_count": 200,
   "id": "sacred-integral",
   "metadata": {},
   "outputs": [],
   "source": [
    "def quad(f,a,b):\n",
    "    def change_variable(x):\n",
    "        t = (2/(b-a))*x + ((a+b)/(a-b))\n",
    "        return f(t)\n",
    "    return gauss_quad(change_variable)*((a-b)/2)"
   ]
  },
  {
   "cell_type": "code",
   "execution_count": 203,
   "id": "blind-gentleman",
   "metadata": {},
   "outputs": [],
   "source": [
    "def f(x):\n",
    "    return sqrt(1-x**2)"
   ]
  },
  {
   "cell_type": "code",
   "execution_count": 205,
   "id": "graduate-wilderness",
   "metadata": {},
   "outputs": [
    {
     "data": {
      "text/plain": [
       "-1.575266611536264"
      ]
     },
     "execution_count": 205,
     "metadata": {},
     "output_type": "execute_result"
    }
   ],
   "source": [
    "quad(f,-1,1)"
   ]
  },
  {
   "cell_type": "code",
   "execution_count": null,
   "id": "electric-married",
   "metadata": {},
   "outputs": [],
   "source": []
  },
  {
   "cell_type": "code",
   "execution_count": null,
   "id": "given-label",
   "metadata": {},
   "outputs": [],
   "source": []
  }
 ],
 "metadata": {
  "kernelspec": {
   "display_name": "Python 3",
   "language": "python",
   "name": "python3"
  },
  "language_info": {
   "codemirror_mode": {
    "name": "ipython",
    "version": 3
   },
   "file_extension": ".py",
   "mimetype": "text/x-python",
   "name": "python",
   "nbconvert_exporter": "python",
   "pygments_lexer": "ipython3",
   "version": "3.9.4"
  }
 },
 "nbformat": 4,
 "nbformat_minor": 5
}
