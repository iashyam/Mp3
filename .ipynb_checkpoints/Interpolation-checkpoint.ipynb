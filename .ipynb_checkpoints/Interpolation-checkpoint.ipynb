{
 "cells": [
  {
   "cell_type": "markdown",
   "id": "korean-mozambique",
   "metadata": {},
   "source": [
    "# Interpolation\n",
    "\n",
    "## Newton Interpolation Method\n",
    "\n",
    "Interpolation is like we have $n$ points given. $x_0, x_1, x_2 \\dots  \\text{and} f(x_0), f(x_1), f(x_2) \\dots$ \n",
    "\n",
    "and we want to get a polynomial that fits all that points.<br> So because this curve goes through all these points one possible solution is :: <br>\n",
    "\n",
    "\n",
    "\\begin{equation}\n",
    "f(x) = \\frac{(x-x_1)(x-x_2)}{(x_0-x_1)(x_0-x_2)}f(x_0) + \\frac{(x-x_0)(x-x_2)}{(x_1-x_0)(x_1-x_2)}f(x_1)\n",
    "\\end{equation}"
   ]
  },
  {
   "cell_type": "markdown",
   "id": "grave-registration",
   "metadata": {},
   "source": [
    " Let us consider a polynomial of degree n such that\n",
    " \n",
    " \\begin{equation}\n",
    "       \\phi(x_k) = \\prod_{m=n \\\\ m\\neq k}^{m=n}\\frac{(x-x_m)}{(x_k-x_m)}\n",
    " \\end{equation}"
   ]
  },
  {
   "cell_type": "markdown",
   "id": "revolutionary-poison",
   "metadata": {},
   "source": [
    "Then we can represent the function as \n",
    "    \\begin{equation}\n",
    "        f(x) = \\sum_{i=1}^{n} \\phi(x_i)f(x_i)\n",
    "    \\end{equation}"
   ]
  },
  {
   "cell_type": "markdown",
   "id": "restricted-texas",
   "metadata": {},
   "source": []
  },
  {
   "cell_type": "code",
   "execution_count": 127,
   "id": "divine-bridge",
   "metadata": {},
   "outputs": [],
   "source": [
    "import math\n",
    "import numpy as np\n",
    "import matplotlib.pyplot as plt"
   ]
  },
  {
   "cell_type": "code",
   "execution_count": 132,
   "id": "sonic-northwest",
   "metadata": {},
   "outputs": [],
   "source": [
    "#coding the phi function\n",
    "xs = [1,2,3,4,5,6]\n",
    "ys = [1,2,3,4,5,6]\n",
    "def phi(x, k):\n",
    "    prod = 1\n",
    "    for m in range(len(xs)):\n",
    "        if m != k:\n",
    "            prod *= (x-x[m])/(x[k]-x[m])\n",
    "    return prod"
   ]
  },
  {
   "cell_type": "code",
   "execution_count": 136,
   "id": "foster-stand",
   "metadata": {},
   "outputs": [],
   "source": [
    "def f(x):\n",
    "    sum = 0\n",
    "    for i in range(n):\n",
    "        sum  += phi(x, i)*ys[i]\n",
    "    return sum"
   ]
  },
  {
   "cell_type": "code",
   "execution_count": 309,
   "id": "entire-youth",
   "metadata": {},
   "outputs": [],
   "source": [
    "def interpolation(xs, ys):\n",
    "    def f(x):\n",
    "        def phi(k):\n",
    "            prod = 1\n",
    "            for m in range(len(xs)):\n",
    "                if m != k:\n",
    "                    prod *= (x-xs[m])/(xs[k]-xs[m])\n",
    "            return prod\n",
    "        sum = 0\n",
    "        for i in range(len(xs)):\n",
    "            sum  += phi(i)*ys[i]\n",
    "        return sum\n",
    "    return f"
   ]
  },
  {
   "cell_type": "markdown",
   "id": "about-september",
   "metadata": {},
   "source": [
    "#### Let us try to fit some inbuilt function\n",
    "\n",
    "We will do it using the newton interpolation method. \n",
    "\n",
    "\n",
    "Let us try $e^x$"
   ]
  },
  {
   "cell_type": "code",
   "execution_count": 313,
   "id": "running-feature",
   "metadata": {},
   "outputs": [],
   "source": [
    "#lets try sin(x)\n",
    "n = 8 #number of nodes\n",
    "xs = np.linspace(0,2*math.pi,n)\n",
    "ys = np.sin(xs)\n",
    "\n",
    "points = np.linspace(0,2*math.pi,100)\n",
    "f = interpolation(xs, ys)\n",
    "x_th = f(points)\n",
    "x_real = np.sin(points)"
   ]
  },
  {
   "cell_type": "code",
   "execution_count": 314,
   "id": "earlier-migration",
   "metadata": {},
   "outputs": [
    {
     "data": {
      "text/plain": [
       "<matplotlib.legend.Legend at 0x7f5c8bef2f40>"
      ]
     },
     "execution_count": 314,
     "metadata": {},
     "output_type": "execute_result"
    },
    {
     "data": {
      "image/png": "[encoded data removed]",
      "text/plain": [
       "<Figure size 432x288 with 1 Axes>"
      ]
     },
     "metadata": {
      "needs_background": "light"
     },
     "output_type": "display_data"
    }
   ],
   "source": [
    "plt.plot(points, x_th,label='Through interpolation')\n",
    "plt.plot(points, x_real, label=\"Real\")\n",
    "plt.plot(xs, ys, '*', label='Points')\n",
    "plt.legend()"
   ]
  },
  {
   "cell_type": "code",
   "execution_count": 315,
   "id": "sorted-directory",
   "metadata": {},
   "outputs": [],
   "source": [
    "def f(x):\n",
    "     return 1/(1+x)"
   ]
  },
  {
   "cell_type": "code",
   "execution_count": 150,
   "id": "advisory-hamburg",
   "metadata": {},
   "outputs": [],
   "source": [
    "n = 4 #number of nodes\n",
    "xs = np.linspace(-10,10,n)\n",
    "ys = f(xs)\n",
    "\n",
    "points = np.linspace(-10,10,100)\n",
    "f = interpolation(xs, ys)\n",
    "x_th = f(points)\n",
    "x_real = f(points)"
   ]
  },
  {
   "cell_type": "code",
   "execution_count": 151,
   "id": "delayed-guide",
   "metadata": {},
   "outputs": [
    {
     "data": {
      "text/plain": [
       "<matplotlib.legend.Legend at 0x7f5c8c4495e0>"
      ]
     },
     "execution_count": 151,
     "metadata": {},
     "output_type": "execute_result"
    },
    {
     "data": {
      "image/png": "[encoded data removed]",
      "text/plain": [
       "<Figure size 432x288 with 1 Axes>"
      ]
     },
     "metadata": {
      "needs_background": "light"
     },
     "output_type": "display_data"
    }
   ],
   "source": [
    "plt.plot(points, x_real, label=\"Real\")\n",
    "plt.plot(points, x_th,label='Through interpolation')\n",
    "plt.plot(xs, ys, '*', label='Points')\n",
    "plt.legend()"
   ]
  },
  {
   "cell_type": "markdown",
   "id": "cellular-broadway",
   "metadata": {},
   "source": [
    "### Legendre's Interpolation Method\n",
    "\n",
    "In above method we have used equispaced points so the maximum degree of polynomial we can achieve is $n-1$ but now we will use special points that are called the chebishave zeros and are basically the zeros of legendre polynomial. \n",
    "\n",
    "By this method we can achieve the maximum degree of pricision of $2n+1$"
   ]
  },
  {
   "cell_type": "code",
   "execution_count": 115,
   "id": "fundamental-blocking",
   "metadata": {},
   "outputs": [],
   "source": [
    "#defining the legendre's polynominal\n",
    "def legendre(n):\n",
    "    def P(x):\n",
    "        if n == 0:\n",
    "            return 1\n",
    "        elif n == 1:\n",
    "            return x\n",
    "        else:\n",
    "            return (1/(n+1))*((2*n+1)*x*legendre(n-1)(x)-n*legendre(n-2)(x))\n",
    "    return P"
   ]
  },
  {
   "cell_type": "code",
   "execution_count": 84,
   "id": "prerequisite-print",
   "metadata": {},
   "outputs": [
    {
     "data": {
      "image/png": "[encoded data removed]",
      "text/plain": [
       "<Figure size 432x288 with 1 Axes>"
      ]
     },
     "metadata": {
      "needs_background": "light"
     },
     "output_type": "display_data"
    }
   ],
   "source": [
    "xs = np.linspace(-1,1,100)\n",
    "for i in range(1,5):\n",
    "    plt.plot(xs,legendre(i)(xs), label=f\"P(i)\")"
   ]
  },
  {
   "cell_type": "code",
   "execution_count": 121,
   "id": "specified-oriental",
   "metadata": {},
   "outputs": [],
   "source": [
    "def bisection(f,u,l): #bisextion(fuction, upperbound, lowerbound)\n",
    "    \n",
    "    tol = 0.001\n",
    "    max_iter = 100\n",
    "    iter_count = 0\n",
    "    \n",
    "    high = u\n",
    "    low = l\n",
    "    \n",
    "    \n",
    "    while abs(high-low)>tol and iter_count<max_iter:\n",
    "        mid = (high+low)/2\n",
    "        \n",
    "        if f(high)*f(mid) < 0:\n",
    "            low = mid\n",
    "            \n",
    "        elif f(low)*f(mid) < 0:\n",
    "            high = mid\n",
    "            \n",
    "        iter_count += 1\n",
    "    return mid"
   ]
  },
  {
   "cell_type": "code",
   "execution_count": 122,
   "id": "devoted-reflection",
   "metadata": {},
   "outputs": [],
   "source": [
    "def f(x):\n",
    "    return x**2 - 2"
   ]
  },
  {
   "cell_type": "code",
   "execution_count": 195,
   "id": "ahead-uniform",
   "metadata": {},
   "outputs": [
    {
     "name": "stdout",
     "output_type": "stream",
     "text": [
      "[-0.8837890625, -0.3603515625, 0.3603515625, 0.8837890625]\n"
     ]
    }
   ],
   "source": [
    "roots = []\n",
    "n = 5\n",
    "x = np.linspace(-1,1,n)\n",
    "\n",
    "for i in range(n-1):\n",
    "    roots.append(bisection(legendre(n-1), x[i],x[i+1]))\n",
    "print(roots)"
   ]
  },
  {
   "cell_type": "code",
   "execution_count": 196,
   "id": "hispanic-sweet",
   "metadata": {},
   "outputs": [],
   "source": [
    "def interpolation(xs, ys):\n",
    "    def lang(x):\n",
    "        def f(x):\n",
    "            def phi(k):\n",
    "                prod = 1\n",
    "                for m in range(len(xs)):\n",
    "                    if m != k:\n",
    "                        prod *= (x-xs[m])/(xs[k]-xs[m])\n",
    "                return prod\n",
    "            sum = 0\n",
    "            for i in range(len(xs)):\n",
    "                sum  += phi(i)*ys[i]\n",
    "            return sum\n",
    "    \n",
    "        return f(x)*(legendre(len(xs))(x)) + f(x)\n",
    "    return lang"
   ]
  },
  {
   "cell_type": "code",
   "execution_count": 197,
   "id": "compatible-period",
   "metadata": {},
   "outputs": [],
   "source": [
    "xs = roots\n",
    "ys = np.sin(xs)"
   ]
  },
  {
   "cell_type": "code",
   "execution_count": 198,
   "id": "imported-peripheral",
   "metadata": {},
   "outputs": [],
   "source": [
    "points = np.linspace(-1,1,100)\n",
    "g = interpolation(xs, ys)\n",
    "x_th = g(points)\n",
    "x_real = np.sin(points)"
   ]
  },
  {
   "cell_type": "code",
   "execution_count": 200,
   "id": "hairy-galaxy",
   "metadata": {},
   "outputs": [
    {
     "data": {
      "text/plain": [
       "<matplotlib.legend.Legend at 0x7f5c8c055e50>"
      ]
     },
     "execution_count": 200,
     "metadata": {},
     "output_type": "execute_result"
    },
    {
     "data": {
      "image/png": "[encoded data removed]",
      "text/plain": [
       "<Figure size 432x288 with 1 Axes>"
      ]
     },
     "metadata": {
      "needs_background": "light"
     },
     "output_type": "display_data"
    }
   ],
   "source": [
    "plt.plot(points, x_th ,label='Through interpolation')\n",
    "plt.plot(points, x_real, label=\"Real\")\n",
    "plt.plot(xs, ys, '*', label='Points')\n",
    "plt.legend()"
   ]
  },
  {
   "cell_type": "code",
   "execution_count": 290,
   "id": "tough-benjamin",
   "metadata": {},
   "outputs": [],
   "source": [
    "def simpson(f,u,l):\n",
    "    n = 100 #number of staps\n",
    "    h = (u-l)/n\n",
    "    sum_odd = 0\n",
    "    sum_even = 0\n",
    "    for i in range(1,n):\n",
    "        if i%2 == 0:\n",
    "            sum_even += f(u+h*i)\n",
    "        else:\n",
    "            sum_odd += f(u+h*i)\n",
    "    return (h/3)*(f(u)+f(l)+4*sum_odd+2*sum_even)"
   ]
  },
  {
   "cell_type": "code",
   "execution_count": 291,
   "id": "expired-shareware",
   "metadata": {},
   "outputs": [],
   "source": [
    "n = 5\n",
    "a = np.linspace(-1,1,n+1)"
   ]
  },
  {
   "cell_type": "code",
   "execution_count": 292,
   "id": "engaged-beast",
   "metadata": {},
   "outputs": [
    {
     "data": {
      "text/plain": [
       "[-0.92109375, -0.56171875, -0.0007812499999998892, 0.56171875, 0.92109375]"
      ]
     },
     "execution_count": 292,
     "metadata": {},
     "output_type": "execute_result"
    }
   ],
   "source": [
    "roots = []\n",
    "for i in range(a.size-1):\n",
    "    roots.append(bisection(legendre(n),a[i],a[i+1]))\n",
    "roots"
   ]
  },
  {
   "cell_type": "code",
   "execution_count": 296,
   "id": "inner-halifax",
   "metadata": {},
   "outputs": [],
   "source": [
    "xs = roots\n",
    "def phi(k):\n",
    "    def f(x):\n",
    "        prod = 1\n",
    "        for m in range(len(xs)):\n",
    "            if m != k:\n",
    "                prod *= (x-xs[m])/(xs[k]-xs[m])\n",
    "        return prod\n",
    "    return f"
   ]
  },
  {
   "cell_type": "code",
   "execution_count": 297,
   "id": "funky-corner",
   "metadata": {},
   "outputs": [],
   "source": [
    "phis = [phi(i) for i in range(n)]\n"
   ]
  },
  {
   "cell_type": "code",
   "execution_count": 298,
   "id": "atomic-violin",
   "metadata": {},
   "outputs": [],
   "source": [
    "wieghts = [simpson(i,-1,1) for i in phis]"
   ]
  },
  {
   "cell_type": "code",
   "execution_count": 304,
   "id": "bottom-trader",
   "metadata": {},
   "outputs": [],
   "source": [
    "def f(x):\n",
    "    return math.sqrt(1-x**2)"
   ]
  },
  {
   "cell_type": "code",
   "execution_count": 305,
   "id": "emotional-spray",
   "metadata": {},
   "outputs": [],
   "source": [
    "sum = 0\n",
    "for i in range(n):\n",
    "    sum += wieghts[i]*f(roots[i])"
   ]
  },
  {
   "cell_type": "code",
   "execution_count": 306,
   "id": "worldwide-doubt",
   "metadata": {},
   "outputs": [
    {
     "name": "stdout",
     "output_type": "stream",
     "text": [
      "17.330331582810317\n"
     ]
    }
   ],
   "source": [
    "print(sum)"
   ]
  },
  {
   "cell_type": "code",
   "execution_count": null,
   "id": "divided-growth",
   "metadata": {},
   "outputs": [],
   "source": []
  }
 ],
 "metadata": {
  "kernelspec": {
   "display_name": "Python 3",
   "language": "python",
   "name": "python3"
  },
  "language_info": {
   "codemirror_mode": {
    "name": "ipython",
    "version": 3
   },
   "file_extension": ".py",
   "mimetype": "text/x-python",
   "name": "python",
   "nbconvert_exporter": "python",
   "pygments_lexer": "ipython3",
   "version": "3.9.4"
  }
 },
 "nbformat": 4,
 "nbformat_minor": 5
}
