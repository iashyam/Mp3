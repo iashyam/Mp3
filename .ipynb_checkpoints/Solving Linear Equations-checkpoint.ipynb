{
 "cells": [
  {
   "cell_type": "markdown",
   "metadata": {},
   "source": [
    "# Solving linear equtions\n",
    "\n",
    "## 1. Gaussian Elimination"
   ]
  },
  {
   "cell_type": "markdown",
   "metadata": {},
   "source": [
    "Lets say we want to solve\n",
    "AB = C"
   ]
  },
  {
   "cell_type": "code",
   "execution_count": 175,
   "metadata": {},
   "outputs": [],
   "source": [
    "import numpy as np\n",
    "import jovian"
   ]
  },
  {
   "cell_type": "code",
   "execution_count": 116,
   "metadata": {},
   "outputs": [
    {
     "data": {
      "text/plain": [
       "array([1, 2, 3, 4, 5, 6, 2])"
      ]
     },
     "execution_count": 116,
     "metadata": {},
     "output_type": "execute_result"
    }
   ],
   "source": [
    "a = np.array((1,2,3,4,5,6))\n",
    "np.append(a, 2)"
   ]
  },
  {
   "cell_type": "code",
   "execution_count": 223,
   "metadata": {},
   "outputs": [],
   "source": [
    "def gaussianElimination(A, B):\n",
    "    n = len(A)\n",
    "    A = np.c_[A, B]\n",
    "    \n",
    "    \n",
    "    #getting echilion matrix:\n",
    "    for i in range(n):\n",
    "        for j in range(i+1,n):\n",
    "            fector = A[j][i]/A[i][i]\n",
    "            for k in range(i, n+1):\n",
    "                A[j][k] -= A[i][k]*fector\n",
    "\n",
    "    c = [0 for _ in B]        \n",
    "    #backSubstitution\n",
    "    string = ''\n",
    "    for i in range(n-1,-1,-1):\n",
    "        sum = 0\n",
    "        for j in range(i,n):\n",
    "            sum += A[i][j]*c[j]\n",
    "        c[i] = (A[i][-1] -sum)/A[i][i]\n",
    "        \n",
    "    return c"
   ]
  },
  {
   "cell_type": "code",
   "execution_count": 256,
   "metadata": {},
   "outputs": [],
   "source": [
    "A = np.array([[2,1,3],[2,6,8],[6,8,18]])"
   ]
  },
  {
   "cell_type": "code",
   "execution_count": 257,
   "metadata": {},
   "outputs": [
    {
     "data": {
      "text/plain": [
       "array([[ 2,  1,  3,  1],\n",
       "       [ 2,  6,  8,  3],\n",
       "       [ 6,  8, 18,  5]])"
      ]
     },
     "execution_count": 257,
     "metadata": {},
     "output_type": "execute_result"
    }
   ],
   "source": [
    "B = np.array((1,3,5))\n",
    "A = np.c_[A,B]\n",
    "A"
   ]
  },
  {
   "cell_type": "code",
   "execution_count": 259,
   "metadata": {},
   "outputs": [
    {
     "name": "stdout",
     "output_type": "stream",
     "text": [
      "[2 6 8 3]\n"
     ]
    },
    {
     "data": {
      "text/plain": [
       "array([[ 2,  6,  8,  3],\n",
       "       [ 2,  6,  8,  3],\n",
       "       [ 6,  8, 18,  5]])"
      ]
     },
     "execution_count": 259,
     "metadata": {},
     "output_type": "execute_result"
    }
   ],
   "source": [
    "temp = A[0]\n",
    "print(temp)\n",
    "A[0] = A[1]\n",
    "A[0]\n",
    "temp = a[0]\n",
    "A"
   ]
  },
  {
   "cell_type": "code",
   "execution_count": 232,
   "metadata": {},
   "outputs": [
    {
     "data": {
      "text/plain": [
       "[0.3, 0.4, 0.0]"
      ]
     },
     "execution_count": 232,
     "metadata": {},
     "output_type": "execute_result"
    }
   ],
   "source": [
    "gaussianElimination(A,B)"
   ]
  },
  {
   "cell_type": "markdown",
   "metadata": {},
   "source": [
    ">Complexity of gaussian elimination: $\\mathcal{O}(n^3)$\n"
   ]
  },
  {
   "cell_type": "markdown",
   "metadata": {},
   "source": [
    "## 2. LU Decomposition"
   ]
  },
  {
   "cell_type": "code",
   "execution_count": 233,
   "metadata": {},
   "outputs": [],
   "source": [
    "from scipy import linalg"
   ]
  },
  {
   "cell_type": "code",
   "execution_count": 236,
   "metadata": {},
   "outputs": [
    {
     "data": {
      "text/plain": [
       "array([ 0.3,  0.4, -0. ])"
      ]
     },
     "execution_count": 236,
     "metadata": {},
     "output_type": "execute_result"
    }
   ],
   "source": [
    "linalg.solve(A,B).round(2)"
   ]
  },
  {
   "cell_type": "code",
   "execution_count": null,
   "metadata": {},
   "outputs": [],
   "source": []
  }
 ],
 "metadata": {
  "kernelspec": {
   "display_name": "Python 3",
   "language": "python",
   "name": "python3"
  },
  "language_info": {
   "codemirror_mode": {
    "name": "ipython",
    "version": 3
   },
   "file_extension": ".py",
   "mimetype": "text/x-python",
   "name": "python",
   "nbconvert_exporter": "python",
   "pygments_lexer": "ipython3",
   "version": "3.9.4"
  }
 },
 "nbformat": 4,
 "nbformat_minor": 4
}
