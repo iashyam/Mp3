{
 "cells": [
  {
   "cell_type": "markdown",
   "id": "independent-proxy",
   "metadata": {},
   "source": [
    "## Gauss Quadrature Method of Integration"
   ]
  },
  {
   "cell_type": "code",
   "execution_count": 1,
   "id": "romantic-scientist",
   "metadata": {},
   "outputs": [],
   "source": [
    "import numpy as np\n",
    "import matplotlib.pyplot as plt\n",
    "from math import *"
   ]
  },
  {
   "cell_type": "code",
   "execution_count": 148,
   "id": "incorrect-survival",
   "metadata": {},
   "outputs": [],
   "source": [
    "def phi(k,xs):\n",
    "    def f(x):\n",
    "        prod = 1\n",
    "        for i in range(len(xs)):\n",
    "            if xs[k]-xs[i]:\n",
    "                prod *= (x-xs[i])/(xs[k]-xs[i])\n",
    "        return prod\n",
    "    return f"
   ]
  },
  {
   "cell_type": "code",
   "execution_count": 149,
   "id": "prompt-hazard",
   "metadata": {},
   "outputs": [],
   "source": [
    "def tropezoidal(f, l,u): #tropezoidal(function, upper limit, lower limit)\n",
    "    n = 10000\n",
    "    dx = (u-l)/n\n",
    "    points = np.linspace(l,u,n)\n",
    "    s = 0\n",
    "    for i in range(1,n):\n",
    "        s += f(points[i])\n",
    "    i =  (f(u) + 2*s + f(l))*(dx/2)\n",
    "    return round(i,4)"
   ]
  },
  {
   "cell_type": "code",
   "execution_count": 150,
   "id": "romantic-heart",
   "metadata": {},
   "outputs": [],
   "source": [
    "def f(x):\n",
    "    return x"
   ]
  },
  {
   "cell_type": "code",
   "execution_count": 151,
   "id": "hazardous-great",
   "metadata": {},
   "outputs": [
    {
     "data": {
      "text/plain": [
       "0.5"
      ]
     },
     "execution_count": 151,
     "metadata": {},
     "output_type": "execute_result"
    }
   ],
   "source": [
    "tropezoidal(f,0,1)"
   ]
  },
  {
   "cell_type": "code",
   "execution_count": 152,
   "id": "instrumental-roommate",
   "metadata": {},
   "outputs": [],
   "source": [
    "def legendre(n):\n",
    "    def P(x):\n",
    "        if n == 0:\n",
    "            return 1\n",
    "        elif n == 1:\n",
    "            return x\n",
    "        else:\n",
    "            return (1/(n+1))*((2*n+1)*x*legendre(n-1)(x)-n*legendre(n-2)(x))\n",
    "    return P"
   ]
  },
  {
   "cell_type": "code",
   "execution_count": 169,
   "id": "fifty-mount",
   "metadata": {},
   "outputs": [],
   "source": [
    "def bisection(f,u,l): #bisection(fuction, upperbound, lowerbound)\n",
    "    \n",
    "    tol = 0.0001\n",
    "    max_iter = 1000\n",
    "    iter_count = 0\n",
    "    \n",
    "    high = u\n",
    "    low = l\n",
    "    \n",
    "    while abs(high-low)>tol and iter_count<max_iter:\n",
    "        mid = (high+low)/2\n",
    "        \n",
    "        if f(high)*f(mid) < 0:\n",
    "            low = mid\n",
    "            \n",
    "        elif f(low)*f(mid) < 0:\n",
    "            high = mid\n",
    "            \n",
    "        iter_count += 1\n",
    "    return mid\n",
    "#     return round(mid,3)"
   ]
  },
  {
   "cell_type": "code",
   "execution_count": 170,
   "id": "hybrid-transport",
   "metadata": {},
   "outputs": [],
   "source": [
    "def root_legendre(n): #a function to find the roots of nth order legendre;s Polynomial\n",
    "    P = legendre(n)\n",
    "    xs = np.linspace(-1,1,n+1)\n",
    "    roots = []\n",
    "    for i in range(n):\n",
    "        roots.append(bisection(P, xs[i],xs[i+1]))\n",
    "    return roots"
   ]
  },
  {
   "cell_type": "code",
   "execution_count": null,
   "id": "verbal-recognition",
   "metadata": {},
   "outputs": [],
   "source": []
  },
  {
   "cell_type": "code",
   "execution_count": 172,
   "id": "backed-perth",
   "metadata": {},
   "outputs": [],
   "source": [
    "def gauss_quad(f):\n",
    "    n = 7 #degree of legendre's polynomial\n",
    "    roots = root_legendre(n)\n",
    "    s = 0\n",
    "    for i in range(n):\n",
    "        phis = phi(i,roots)\n",
    "        weight = tropezoidal(phis, -1,1)\n",
    "        s += weight*f(roots[i])\n",
    "    return s"
   ]
  },
  {
   "cell_type": "code",
   "execution_count": 173,
   "id": "opposed-washington",
   "metadata": {},
   "outputs": [],
   "source": [
    "def f(x):\n",
    "    return sqrt(1-x**2)"
   ]
  },
  {
   "cell_type": "code",
   "execution_count": 174,
   "id": "american-aggregate",
   "metadata": {},
   "outputs": [
    {
     "data": {
      "text/plain": [
       "1.575266611536264"
      ]
     },
     "execution_count": 174,
     "metadata": {},
     "output_type": "execute_result"
    }
   ],
   "source": [
    "gauss_quad(f)"
   ]
  },
  {
   "cell_type": "code",
   "execution_count": 175,
   "id": "warming-scheduling",
   "metadata": {},
   "outputs": [
    {
     "data": {
      "text/plain": [
       "1.5707963267948966"
      ]
     },
     "execution_count": 175,
     "metadata": {},
     "output_type": "execute_result"
    }
   ],
   "source": [
    "pi/2"
   ]
  },
  {
   "cell_type": "code",
   "execution_count": null,
   "id": "curious-saturday",
   "metadata": {},
   "outputs": [],
   "source": []
  }
 ],
 "metadata": {
  "kernelspec": {
   "display_name": "Python 3",
   "language": "python",
   "name": "python3"
  },
  "language_info": {
   "codemirror_mode": {
    "name": "ipython",
    "version": 3
   },
   "file_extension": ".py",
   "mimetype": "text/x-python",
   "name": "python",
   "nbconvert_exporter": "python",
   "pygments_lexer": "ipython3",
   "version": "3.9.4"
  }
 },
 "nbformat": 4,
 "nbformat_minor": 5
}
