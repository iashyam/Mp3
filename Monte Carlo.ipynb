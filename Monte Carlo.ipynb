{
 "cells": [
  {
   "cell_type": "markdown",
   "id": "spiritual-advisory",
   "metadata": {},
   "source": [
    "# Monte Carlo Simelution\n",
    "## Calcultaing pi"
   ]
  },
  {
   "cell_type": "code",
   "execution_count": 1,
   "id": "sonic-barrel",
   "metadata": {},
   "outputs": [],
   "source": [
    "import random"
   ]
  },
  {
   "cell_type": "code",
   "execution_count": 2,
   "id": "flying-smart",
   "metadata": {},
   "outputs": [],
   "source": [
    "def f(x,y):\n",
    "    return x**2+y**2 "
   ]
  },
  {
   "cell_type": "code",
   "execution_count": 44,
   "id": "great-discipline",
   "metadata": {},
   "outputs": [],
   "source": [
    "max_number = 1000000\n",
    "inside = 0\n",
    "total = 0\n",
    "\n",
    "for i in range(10000):\n",
    "    x =  random.randrange(max_number)/max_number\n",
    "    y = random.randrange(max_number)/max_number\n",
    "    \n",
    "    if f(x,y) < 1:\n",
    "        inside += 1\n",
    "    total += 1"
   ]
  },
  {
   "cell_type": "code",
   "execution_count": 45,
   "id": "french-banner",
   "metadata": {},
   "outputs": [],
   "source": [
    "area = inside/total"
   ]
  },
  {
   "cell_type": "code",
   "execution_count": 46,
   "id": "eligible-timer",
   "metadata": {},
   "outputs": [],
   "source": [
    "pi = area*4"
   ]
  },
  {
   "cell_type": "code",
   "execution_count": 47,
   "id": "outside-magnet",
   "metadata": {},
   "outputs": [
    {
     "name": "stdout",
     "output_type": "stream",
     "text": [
      "pi = 3.1452\n"
     ]
    }
   ],
   "source": [
    "print(f\"pi = {pi}\")"
   ]
  },
  {
   "cell_type": "markdown",
   "id": "raising-precipitation",
   "metadata": {},
   "source": [
    "## MonteCarlo Integration"
   ]
  },
  {
   "cell_type": "markdown",
   "id": "precious-leonard",
   "metadata": {},
   "source": [
    "Let us say we have to calculate the function $f(x)$ in range $[a,b]$. We can do this by calculating the function at diffrent random points between a and b and then taking avarage\n",
    "[Monte Carlo Integration](https://www.scratchapixel.com/lessons/mathematics-physics-for-computer-graphics/monte-carlo-methods-in-practice/monte-carlo-integration)"
   ]
  },
  {
   "cell_type": "code",
   "execution_count": 96,
   "id": "enhanced-wesley",
   "metadata": {},
   "outputs": [],
   "source": [
    "def f(x):\n",
    "    return (1-x**2)**0.5"
   ]
  },
  {
   "cell_type": "code",
   "execution_count": 97,
   "id": "spoken-policy",
   "metadata": {},
   "outputs": [],
   "source": [
    "def monte_carlo_integration(f,a,b):\n",
    "    max_number = 100000\n",
    "    steps = 100000\n",
    "    area = 0\n",
    "    for i in range(steps):\n",
    "        x = random.randrange(a*max_number, b*max_number)/max_number\n",
    "        area += f(x)\n",
    "    return (b-a)*area/steps"
   ]
  },
  {
   "cell_type": "code",
   "execution_count": 98,
   "id": "supported-insured",
   "metadata": {},
   "outputs": [
    {
     "data": {
      "text/plain": [
       "1.5703678340071625"
      ]
     },
     "execution_count": 98,
     "metadata": {},
     "output_type": "execute_result"
    }
   ],
   "source": [
    "monte_carlo_integration(f,-1,1)"
   ]
  },
  {
   "cell_type": "code",
   "execution_count": 99,
   "id": "consecutive-congress",
   "metadata": {},
   "outputs": [
    {
     "data": {
      "text/plain": [
       "1.5707963267948966"
      ]
     },
     "execution_count": 99,
     "metadata": {},
     "output_type": "execute_result"
    }
   ],
   "source": [
    "import math\n",
    "math.pi/2"
   ]
  },
  {
   "cell_type": "code",
   "execution_count": 106,
   "id": "compact-insured",
   "metadata": {},
   "outputs": [
    {
     "data": {
      "text/plain": [
       "True"
      ]
     },
     "execution_count": 106,
     "metadata": {},
     "output_type": "execute_result"
    }
   ],
   "source": [
    "not None  == False"
   ]
  },
  {
   "cell_type": "code",
   "execution_count": null,
   "id": "cooked-mississippi",
   "metadata": {},
   "outputs": [],
   "source": []
  }
 ],
 "metadata": {
  "kernelspec": {
   "display_name": "Python 3",
   "language": "python",
   "name": "python3"
  },
  "language_info": {
   "codemirror_mode": {
    "name": "ipython",
    "version": 3
   },
   "file_extension": ".py",
   "mimetype": "text/x-python",
   "name": "python",
   "nbconvert_exporter": "python",
   "pygments_lexer": "ipython3",
   "version": "3.9.4"
  }
 },
 "nbformat": 4,
 "nbformat_minor": 5
}
